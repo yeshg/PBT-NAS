{
  "nbformat": 4,
  "nbformat_minor": 0,
  "metadata": {
    "colab": {
      "name": "RayNAS.ipynb",
      "provenance": [],
      "collapsed_sections": [],
      "toc_visible": true
    },
    "kernelspec": {
      "name": "python3",
      "display_name": "Python 3"
    },
    "accelerator": "GPU"
  },
  "cells": [
    {
      "cell_type": "markdown",
      "metadata": {
        "id": "DVzzIBCQ1ZOp"
      },
      "source": [
        "## Ray-NAS\n",
        "\n",
        "Scaling and Distributing Neural Architecture Search (NAS) Algorithms with the distributed machine learning framework Ray.\n",
        "https://github.com/yeshg/RayNAS\n",
        "\n",
        "Algorithms\n",
        "\n",
        "    DARTS\n",
        "        uses official pytorch implementation\n",
        "        CNN only\n",
        "    ENAS\n",
        "        uses unofficial pytorch reimplimentation\n",
        "        RNN only\n",
        "    Random NAS\n",
        "        Same search space as ENAS, no RNN controller\n",
        "        CNN only\n"
      ]
    },
    {
      "cell_type": "code",
      "metadata": {
        "id": "VXUBWqGb1Ucw"
      },
      "source": [
        "!git clone https://github.com/yeshg/RayNAS"
      ],
      "execution_count": null,
      "outputs": []
    },
    {
      "cell_type": "code",
      "metadata": {
        "id": "ugp8e0Gv1xbE"
      },
      "source": [
        "%cd RayNAS"
      ],
      "execution_count": null,
      "outputs": []
    },
    {
      "cell_type": "code",
      "metadata": {
        "id": "sVDXf-wU2LXN"
      },
      "source": [
        "!pip install -q ray[tune]"
      ],
      "execution_count": null,
      "outputs": []
    },
    {
      "cell_type": "code",
      "metadata": {
        "id": "DoWH81Y75wgh"
      },
      "source": [
        "!nvidia-smi"
      ],
      "execution_count": null,
      "outputs": []
    },
    {
      "cell_type": "code",
      "metadata": {
        "id": "_0T4iF2t1lOc"
      },
      "source": [
        "# Run DARTS with CIFAR 10 and 2 layers\n",
        "!python main.py darts cnn --dataset cifar10 --layers 2 --cuda"
      ],
      "execution_count": null,
      "outputs": []
    },
    {
      "cell_type": "code",
      "metadata": {
        "id": "N3C7I_vJ1vwT"
      },
      "source": [
        "!python main.py enas rnn --num_blocks 4 --cuda"
      ],
      "execution_count": null,
      "outputs": []
    }
  ]
}